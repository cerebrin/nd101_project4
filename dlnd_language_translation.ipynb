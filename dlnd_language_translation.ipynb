{
 "cells": [
  {
   "cell_type": "markdown",
   "metadata": {
    "collapsed": true
   },
   "source": [
    "# Language Translation\n",
    "In this project, you’re going to take a peek into the realm of neural network machine translation.  You’ll be training a sequence to sequence model on a dataset of English and French sentences that can translate new sentences from English to French.\n",
    "## Get the Data\n",
    "Since translating the whole language of English to French will take lots of time to train, we have provided you with a small portion of the English corpus."
   ]
  },
  {
   "cell_type": "code",
   "execution_count": 1,
   "metadata": {
    "collapsed": true
   },
   "outputs": [],
   "source": [
    "\"\"\"\n",
    "DON'T MODIFY ANYTHING IN THIS CELL\n",
    "\"\"\"\n",
    "import helper\n",
    "import problem_unittests as tests\n",
    "\n",
    "source_path = 'data/small_vocab_en'\n",
    "target_path = 'data/small_vocab_fr'\n",
    "source_text = helper.load_data(source_path)\n",
    "target_text = helper.load_data(target_path)"
   ]
  },
  {
   "cell_type": "markdown",
   "metadata": {},
   "source": [
    "## Explore the Data\n",
    "Play around with view_sentence_range to view different parts of the data."
   ]
  },
  {
   "cell_type": "code",
   "execution_count": 2,
   "metadata": {
    "collapsed": false
   },
   "outputs": [
    {
     "name": "stdout",
     "output_type": "stream",
     "text": [
      "Dataset Stats\n",
      "Roughly the number of unique words: 227\n",
      "Number of sentences: 137861\n",
      "Average number of words in a sentence: 13.225277634719028\n",
      "\n",
      "English sentences 0 to 10:\n",
      "new jersey is sometimes quiet during autumn , and it is snowy in april .\n",
      "the united states is usually chilly during july , and it is usually freezing in november .\n",
      "california is usually quiet during march , and it is usually hot in june .\n",
      "the united states is sometimes mild during june , and it is cold in september .\n",
      "your least liked fruit is the grape , but my least liked is the apple .\n",
      "his favorite fruit is the orange , but my favorite is the grape .\n",
      "paris is relaxing during december , but it is usually chilly in july .\n",
      "new jersey is busy during spring , and it is never hot in march .\n",
      "our least liked fruit is the lemon , but my least liked is the grape .\n",
      "the united states is sometimes busy during january , and it is sometimes warm in november .\n",
      "\n",
      "French sentences 0 to 10:\n",
      "new jersey est parfois calme pendant l' automne , et il est neigeux en avril .\n",
      "les états-unis est généralement froid en juillet , et il gèle habituellement en novembre .\n",
      "california est généralement calme en mars , et il est généralement chaud en juin .\n",
      "les états-unis est parfois légère en juin , et il fait froid en septembre .\n",
      "votre moins aimé fruit est le raisin , mais mon moins aimé est la pomme .\n",
      "son fruit préféré est l'orange , mais mon préféré est le raisin .\n",
      "paris est relaxant en décembre , mais il est généralement froid en juillet .\n",
      "new jersey est occupé au printemps , et il est jamais chaude en mars .\n",
      "notre fruit est moins aimé le citron , mais mon moins aimé est le raisin .\n",
      "les états-unis est parfois occupé en janvier , et il est parfois chaud en novembre .\n"
     ]
    }
   ],
   "source": [
    "view_sentence_range = (0, 10)\n",
    "\n",
    "\"\"\"\n",
    "DON'T MODIFY ANYTHING IN THIS CELL\n",
    "\"\"\"\n",
    "import numpy as np\n",
    "\n",
    "print('Dataset Stats')\n",
    "print('Roughly the number of unique words: {}'.format(len({word: None for word in source_text.split()})))\n",
    "\n",
    "sentences = source_text.split('\\n')\n",
    "word_counts = [len(sentence.split()) for sentence in sentences]\n",
    "print('Number of sentences: {}'.format(len(sentences)))\n",
    "print('Average number of words in a sentence: {}'.format(np.average(word_counts)))\n",
    "\n",
    "print()\n",
    "print('English sentences {} to {}:'.format(*view_sentence_range))\n",
    "print('\\n'.join(source_text.split('\\n')[view_sentence_range[0]:view_sentence_range[1]]))\n",
    "print()\n",
    "print('French sentences {} to {}:'.format(*view_sentence_range))\n",
    "print('\\n'.join(target_text.split('\\n')[view_sentence_range[0]:view_sentence_range[1]]))"
   ]
  },
  {
   "cell_type": "markdown",
   "metadata": {},
   "source": [
    "## Implement Preprocessing Function\n",
    "### Text to Word Ids\n",
    "As you did with other RNNs, you must turn the text into a number so the computer can understand it. In the function `text_to_ids()`, you'll turn `source_text` and `target_text` from words to ids.  However, you need to add the `<EOS>` word id at the end of `target_text`.  This will help the neural network predict when the sentence should end.\n",
    "\n",
    "You can get the `<EOS>` word id by doing:\n",
    "```python\n",
    "target_vocab_to_int['<EOS>']\n",
    "```\n",
    "You can get other word ids using `source_vocab_to_int` and `target_vocab_to_int`."
   ]
  },
  {
   "cell_type": "code",
   "execution_count": 3,
   "metadata": {
    "collapsed": false
   },
   "outputs": [
    {
     "name": "stdout",
     "output_type": "stream",
     "text": [
      "Tests Passed\n"
     ]
    }
   ],
   "source": [
    "def text_to_ids(source_text, target_text, source_vocab_to_int, target_vocab_to_int):\n",
    "    \"\"\"\n",
    "    Convert source and target text to proper word ids\n",
    "    :param source_text: String that contains all the source text.\n",
    "    :param target_text: String that contains all the target text.\n",
    "    :param source_vocab_to_int: Dictionary to go from the source words to an id\n",
    "    :param target_vocab_to_int: Dictionary to go from the target words to an id\n",
    "    :return: A tuple of lists (source_id_text, target_id_text)\n",
    "    \"\"\"\n",
    "    # TODO: Implement Function\n",
    "    #print(source_text)\n",
    "    #print(source_vocab_to_int)\n",
    "    source_id_text, target_id_text = [],[]\n",
    "    for line in source_text.split('\\n'):\n",
    "        source_id_text += [[source_vocab_to_int[word] for word in line.split(' ')if word!='']]\n",
    "    for line in target_text.split('\\n'):\n",
    "        target_id_text += [[target_vocab_to_int[word] for word in line.split(' ') if word!=''] + [target_vocab_to_int['<EOS>']]] \n",
    "    \n",
    "    #print(source_id_text)\n",
    "    return source_id_text, target_id_text\n",
    "\n",
    "\"\"\"\n",
    "DON'T MODIFY ANYTHING IN THIS CELL THAT IS BELOW THIS LINE\n",
    "\"\"\"\n",
    "tests.test_text_to_ids(text_to_ids)"
   ]
  },
  {
   "cell_type": "markdown",
   "metadata": {},
   "source": [
    "### Preprocess all the data and save it\n",
    "Running the code cell below will preprocess all the data and save it to file."
   ]
  },
  {
   "cell_type": "code",
   "execution_count": 4,
   "metadata": {
    "collapsed": false
   },
   "outputs": [],
   "source": [
    "\"\"\"\n",
    "DON'T MODIFY ANYTHING IN THIS CELL\n",
    "\"\"\"\n",
    "helper.preprocess_and_save_data(source_path, target_path, text_to_ids)"
   ]
  },
  {
   "cell_type": "markdown",
   "metadata": {},
   "source": [
    "# Check Point\n",
    "This is your first checkpoint. If you ever decide to come back to this notebook or have to restart the notebook, you can start from here. The preprocessed data has been saved to disk."
   ]
  },
  {
   "cell_type": "code",
   "execution_count": 15,
   "metadata": {
    "collapsed": true
   },
   "outputs": [],
   "source": [
    "\"\"\"\n",
    "DON'T MODIFY ANYTHING IN THIS CELL\n",
    "\"\"\"\n",
    "import numpy as np\n",
    "import helper\n",
    "import problem_unittests as tests\n",
    "\n",
    "(source_int_text, target_int_text), (source_vocab_to_int, target_vocab_to_int), _ = helper.load_preprocess()"
   ]
  },
  {
   "cell_type": "markdown",
   "metadata": {},
   "source": [
    "### Check the Version of TensorFlow and Access to GPU\n",
    "This will check to make sure you have the correct version of TensorFlow and access to a GPU"
   ]
  },
  {
   "cell_type": "code",
   "execution_count": 16,
   "metadata": {
    "collapsed": false
   },
   "outputs": [
    {
     "name": "stdout",
     "output_type": "stream",
     "text": [
      "TensorFlow Version: 1.1.0\n"
     ]
    },
    {
     "name": "stderr",
     "output_type": "stream",
     "text": [
      "C:\\Users\\dustin.vado\\AppData\\Local\\Continuum\\Anaconda2\\envs\\dlnd-tf-lab\\lib\\site-packages\\ipykernel\\__main__.py:15: UserWarning: No GPU found. Please use a GPU to train your neural network.\n"
     ]
    }
   ],
   "source": [
    "\"\"\"\n",
    "DON'T MODIFY ANYTHING IN THIS CELL\n",
    "\"\"\"\n",
    "from distutils.version import LooseVersion\n",
    "import warnings\n",
    "import tensorflow as tf\n",
    "from tensorflow.python.layers.core import Dense\n",
    "\n",
    "# Check TensorFlow Version\n",
    "assert LooseVersion(tf.__version__) >= LooseVersion('1.1'), 'Please use TensorFlow version 1.1 or newer'\n",
    "print('TensorFlow Version: {}'.format(tf.__version__))\n",
    "\n",
    "# Check for a GPU\n",
    "if not tf.test.gpu_device_name():\n",
    "    warnings.warn('No GPU found. Please use a GPU to train your neural network.')\n",
    "else:\n",
    "    print('Default GPU Device: {}'.format(tf.test.gpu_device_name()))"
   ]
  },
  {
   "cell_type": "markdown",
   "metadata": {},
   "source": [
    "## Build the Neural Network\n",
    "You'll build the components necessary to build a Sequence-to-Sequence model by implementing the following functions below:\n",
    "- `model_inputs`\n",
    "- `process_decoder_input`\n",
    "- `encoding_layer`\n",
    "- `decoding_layer_train`\n",
    "- `decoding_layer_infer`\n",
    "- `decoding_layer`\n",
    "- `seq2seq_model`\n",
    "\n",
    "### Input\n",
    "Implement the `model_inputs()` function to create TF Placeholders for the Neural Network. It should create the following placeholders:\n",
    "\n",
    "- Input text placeholder named \"input\" using the TF Placeholder name parameter with rank 2.\n",
    "- Targets placeholder with rank 2.\n",
    "- Learning rate placeholder with rank 0.\n",
    "- Keep probability placeholder named \"keep_prob\" using the TF Placeholder name parameter with rank 0.\n",
    "- Target sequence length placeholder named \"target_sequence_length\" with rank 1\n",
    "- Max target sequence length tensor named \"max_target_len\" getting its value from applying tf.reduce_max on the target_sequence_length placeholder. Rank 0.\n",
    "- Source sequence length placeholder named \"source_sequence_length\" with rank 1\n",
    "\n",
    "Return the placeholders in the following the tuple (input, targets, learning rate, keep probability, target sequence length, max target sequence length, source sequence length)"
   ]
  },
  {
   "cell_type": "code",
   "execution_count": 17,
   "metadata": {
    "collapsed": false
   },
   "outputs": [
    {
     "name": "stdout",
     "output_type": "stream",
     "text": [
      "Tests Passed\n"
     ]
    }
   ],
   "source": [
    "def model_inputs():\n",
    "    \"\"\"\n",
    "    Create TF Placeholders for input, targets, learning rate, and lengths of source and target sequences.\n",
    "    :return: Tuple (input, targets, learning rate, keep probability, target sequence length,\n",
    "    max target sequence length, source sequence length)\n",
    "    \"\"\"\n",
    "    # TODO: Implement Function\n",
    "    inputs = tf.placeholder(tf.int32,[None,None],name = 'input')\n",
    "    targets = tf.placeholder(tf.int32,[None,None],name='targets')\n",
    "    learning_rate = tf.placeholder(tf.float32,name='learning_rate')\n",
    "    keep_prob = tf.placeholder(tf.float32,name='keep_prob')\n",
    "    target_sequence_length = tf.placeholder(tf.int32, (None,), name='target_sequence_length')\n",
    "    max_target_sequence_length = tf.reduce_max(target_sequence_length, name='max_target_len')\n",
    "    source_sequence_length = tf.placeholder(tf.int32, (None,), name='source_sequence_length')\n",
    "    return inputs, targets, learning_rate, keep_prob, target_sequence_length, max_target_sequence_length, source_sequence_length\n",
    "\n",
    "\n",
    "\"\"\"\n",
    "DON'T MODIFY ANYTHING IN THIS CELL THAT IS BELOW THIS LINE\n",
    "\"\"\"\n",
    "tests.test_model_inputs(model_inputs)"
   ]
  },
  {
   "cell_type": "markdown",
   "metadata": {},
   "source": [
    "### Process Decoder Input\n",
    "Implement `process_decoder_input` by removing the last word id from each batch in `target_data` and concat the GO ID to the begining of each batch."
   ]
  },
  {
   "cell_type": "code",
   "execution_count": 18,
   "metadata": {
    "collapsed": false
   },
   "outputs": [
    {
     "name": "stdout",
     "output_type": "stream",
     "text": [
      "Tests Passed\n"
     ]
    }
   ],
   "source": [
    "def process_decoder_input(target_data, target_vocab_to_int, batch_size):\n",
    "    \"\"\"\n",
    "    Preprocess target data for encoding\n",
    "    :param target_data: Target Placehoder\n",
    "    :param target_vocab_to_int: Dictionary to go from the target words to an id\n",
    "    :param batch_size: Batch Size\n",
    "    :return: Preprocessed target data\n",
    "    \"\"\"\n",
    "    # TODO: Implement Function\n",
    "    ending = tf.strided_slice(target_data, [0, 0], [batch_size, -1], [1, 1])\n",
    "    dec_input = tf.concat([tf.fill([batch_size, 1], target_vocab_to_int['<GO>']), ending], 1)\n",
    "    return dec_input\n",
    "\n",
    "\"\"\"\n",
    "DON'T MODIFY ANYTHING IN THIS CELL THAT IS BELOW THIS LINE\n",
    "\"\"\"\n",
    "tests.test_process_encoding_input(process_decoder_input)"
   ]
  },
  {
   "cell_type": "markdown",
   "metadata": {},
   "source": [
    "### Encoding\n",
    "Implement `encoding_layer()` to create a Encoder RNN layer:\n",
    " * Embed the encoder input using [`tf.contrib.layers.embed_sequence`](https://www.tensorflow.org/api_docs/python/tf/contrib/layers/embed_sequence)\n",
    " * Construct a [stacked](https://github.com/tensorflow/tensorflow/blob/6947f65a374ebf29e74bb71e36fd82760056d82c/tensorflow/docs_src/tutorials/recurrent.md#stacking-multiple-lstms) [`tf.contrib.rnn.LSTMCell`](https://www.tensorflow.org/api_docs/python/tf/contrib/rnn/LSTMCell) wrapped in a [`tf.contrib.rnn.DropoutWrapper`](https://www.tensorflow.org/api_docs/python/tf/contrib/rnn/DropoutWrapper)\n",
    " * Pass cell and embedded input to [`tf.nn.dynamic_rnn()`](https://www.tensorflow.org/api_docs/python/tf/nn/dynamic_rnn)"
   ]
  },
  {
   "cell_type": "code",
   "execution_count": 27,
   "metadata": {
    "collapsed": false,
    "scrolled": false
   },
   "outputs": [
    {
     "name": "stdout",
     "output_type": "stream",
     "text": [
      "Tests Passed\n"
     ]
    }
   ],
   "source": [
    "from imp import reload\n",
    "reload(tests)\n",
    "\n",
    "def encoding_layer(rnn_inputs, rnn_size, num_layers, keep_prob, \n",
    "                   source_sequence_length, source_vocab_size, \n",
    "                   encoding_embedding_size):\n",
    "    \"\"\"\n",
    "    Create encoding layer\n",
    "    :param rnn_inputs: Inputs for the RNN\n",
    "    :param rnn_size: RNN Size\n",
    "    :param num_layers: Number of layers\n",
    "    :param keep_prob: Dropout keep probability\n",
    "    :param source_sequence_length: a list of the lengths of each sequence in the batch\n",
    "    :param source_vocab_size: vocabulary size of source data\n",
    "    :param encoding_embedding_size: embedding size of source data\n",
    "    :return: tuple (RNN output, RNN state)\n",
    "    \"\"\"\n",
    "    # TODO: Implement Function\n",
    "    # Encoder embedding\n",
    "    enc_embed_input = tf.contrib.layers.embed_sequence(rnn_inputs, source_vocab_size, encoding_embedding_size)\n",
    "    def lstm_cell():\n",
    "        return tf.contrib.rnn.LSTMCell(rnn_size,\n",
    "                                     initializer=tf.random_uniform_initializer(-0.1, 0.1, seed=2))\n",
    "\n",
    "    stacked_lstm = tf.contrib.rnn.MultiRNNCell(\n",
    "        [lstm_cell() for _ in range(num_layers)])\n",
    "\n",
    "\n",
    "    drop = tf.contrib.rnn.DropoutWrapper(stacked_lstm,state_keep_prob=keep_prob)\n",
    "    \n",
    "    output,final_state = tf.nn.dynamic_rnn(\n",
    "                                            drop,\n",
    "                                            enc_embed_input,\n",
    "                                            sequence_length=source_sequence_length,\n",
    "                                            dtype=tf.float32)\n",
    "                                            \n",
    "    \n",
    "    return output, final_state\n",
    "\n",
    "\"\"\"\n",
    "DON'T MODIFY ANYTHING IN THIS CELL THAT IS BELOW THIS LINE\n",
    "\"\"\"\n",
    "tests.test_encoding_layer(encoding_layer)"
   ]
  },
  {
   "cell_type": "markdown",
   "metadata": {},
   "source": [
    "### Decoding - Training\n",
    "Create a training decoding layer:\n",
    "* Create a [`tf.contrib.seq2seq.TrainingHelper`](https://www.tensorflow.org/api_docs/python/tf/contrib/seq2seq/TrainingHelper) \n",
    "* Create a [`tf.contrib.seq2seq.BasicDecoder`](https://www.tensorflow.org/api_docs/python/tf/contrib/seq2seq/BasicDecoder)\n",
    "* Obtain the decoder outputs from [`tf.contrib.seq2seq.dynamic_decode`](https://www.tensorflow.org/api_docs/python/tf/contrib/seq2seq/dynamic_decode)"
   ]
  },
  {
   "cell_type": "code",
   "execution_count": 23,
   "metadata": {
    "collapsed": false
   },
   "outputs": [
    {
     "name": "stdout",
     "output_type": "stream",
     "text": [
      "Tests Passed\n"
     ]
    }
   ],
   "source": [
    "\n",
    "def decoding_layer_train(encoder_state, dec_cell, dec_embed_input, \n",
    "                         target_sequence_length, max_summary_length, \n",
    "                         output_layer, keep_prob):\n",
    "    \"\"\"\n",
    "    Create a decoding layer for training\n",
    "    :param encoder_state: Encoder State\n",
    "    :param dec_cell: Decoder RNN Cell\n",
    "    :param dec_embed_input: Decoder embedded input\n",
    "    :param target_sequence_length: The lengths of each sequence in the target batch\n",
    "    :param max_summary_length: The length of the longest sequence in the batch\n",
    "    :param output_layer: Function to apply the output layer\n",
    "    :param keep_prob: Dropout keep probability\n",
    "    :return: BasicDecoderOutput containing training logits and sample_id\n",
    "    \"\"\"\n",
    "    # TODO: Implement Function\n",
    "    helper = tf.contrib.seq2seq.TrainingHelper(inputs=dec_embed_input,\n",
    "                                                sequence_length=target_sequence_length,\n",
    "                                                time_major=False)\n",
    "    \n",
    "    drop = tf.contrib.rnn.DropoutWrapper(dec_cell,state_keep_prob=keep_prob)\n",
    "\n",
    "    decoder = tf.contrib.seq2seq.BasicDecoder(drop,\n",
    "                                                helper,\n",
    "                                                encoder_state,\n",
    "                                                output_layer)\n",
    "    \n",
    "    \n",
    "    final_outputs = tf.contrib.seq2seq.dynamic_decode(decoder,\n",
    "                                                      impute_finished=True,\n",
    "                                                        maximum_iterations=max_summary_length)[0]\n",
    "    \n",
    "    return final_outputs\n",
    "\n",
    "\n",
    "\n",
    "\"\"\"\n",
    "DON'T MODIFY ANYTHING IN THIS CELL THAT IS BELOW THIS LINE\n",
    "\"\"\"\n",
    "tests.test_decoding_layer_train(decoding_layer_train)"
   ]
  },
  {
   "cell_type": "markdown",
   "metadata": {},
   "source": [
    "### Decoding - Inference\n",
    "Create inference decoder:\n",
    "* Create a [`tf.contrib.seq2seq.GreedyEmbeddingHelper`](https://www.tensorflow.org/api_docs/python/tf/contrib/seq2seq/GreedyEmbeddingHelper)\n",
    "* Create a [`tf.contrib.seq2seq.BasicDecoder`](https://www.tensorflow.org/api_docs/python/tf/contrib/seq2seq/BasicDecoder)\n",
    "* Obtain the decoder outputs from [`tf.contrib.seq2seq.dynamic_decode`](https://www.tensorflow.org/api_docs/python/tf/contrib/seq2seq/dynamic_decode)"
   ]
  },
  {
   "cell_type": "code",
   "execution_count": 35,
   "metadata": {
    "collapsed": false,
    "scrolled": true
   },
   "outputs": [
    {
     "name": "stdout",
     "output_type": "stream",
     "text": [
      "Tests Passed\n"
     ]
    }
   ],
   "source": [
    "def decoding_layer_infer(encoder_state, dec_cell, dec_embeddings, start_of_sequence_id,\n",
    "                         end_of_sequence_id, max_target_sequence_length,\n",
    "                         vocab_size, output_layer, batch_size, keep_prob):\n",
    "    \"\"\"\n",
    "    Create a decoding layer for inference\n",
    "    :param encoder_state: Encoder state\n",
    "    :param dec_cell: Decoder RNN Cell\n",
    "    :param dec_embeddings: Decoder embeddings\n",
    "    :param start_of_sequence_id: GO ID\n",
    "    :param end_of_sequence_id: EOS Id\n",
    "    :param max_target_sequence_length: Maximum length of target sequences\n",
    "    :param vocab_size: Size of decoder/target vocabulary\n",
    "    :param decoding_scope: TenorFlow Variable Scope for decoding\n",
    "    :param output_layer: Function to apply the output layer\n",
    "    :param batch_size: Batch size\n",
    "    :param keep_prob: Dropout keep probability\n",
    "    :return: BasicDecoderOutput containing inference logits and sample_id\n",
    "    \"\"\"\n",
    "    # TODO: Implement Function\n",
    "    start_tokens = tf.tile(tf.constant([start_of_sequence_id], dtype=tf.int32), [batch_size], name='start_tokens')\n",
    "    \n",
    "    helper = tf.contrib.seq2seq.GreedyEmbeddingHelper(dec_embeddings ,\n",
    "                                                     start_tokens=start_tokens,\n",
    "                                                    end_token=end_of_sequence_id)\n",
    "    \n",
    "    decoder = tf.contrib.seq2seq.BasicDecoder(dec_cell,\n",
    "                                                helper,\n",
    "                                                encoder_state,\n",
    "                                                output_layer)\n",
    "    final_outputs = tf.contrib.seq2seq.dynamic_decode(decoder,\n",
    "                                                      impute_finished=True,\n",
    "                                                        maximum_iterations=max_target_sequence_length)[0]\n",
    "    \n",
    "    return final_outputs\n",
    "\n",
    "\n",
    "\n",
    "\"\"\"\n",
    "DON'T MODIFY ANYTHING IN THIS CELL THAT IS BELOW THIS LINE\n",
    "\"\"\"\n",
    "tests.test_decoding_layer_infer(decoding_layer_infer)"
   ]
  },
  {
   "cell_type": "markdown",
   "metadata": {},
   "source": [
    "### Build the Decoding Layer\n",
    "Implement `decoding_layer()` to create a Decoder RNN layer.\n",
    "\n",
    "* Embed the target sequences\n",
    "* Construct the decoder LSTM cell (just like you constructed the encoder cell above)\n",
    "* Create an output layer to map the outputs of the decoder to the elements of our vocabulary\n",
    "* Use the your `decoding_layer_train(encoder_state, dec_cell, dec_embed_input, target_sequence_length, max_target_sequence_length, output_layer, keep_prob)` function to get the training logits.\n",
    "* Use your `decoding_layer_infer(encoder_state, dec_cell, dec_embeddings, start_of_sequence_id, end_of_sequence_id, max_target_sequence_length, vocab_size, output_layer, batch_size, keep_prob)` function to get the inference logits.\n",
    "\n",
    "Note: You'll need to use [tf.variable_scope](https://www.tensorflow.org/api_docs/python/tf/variable_scope) to share variables between training and inference."
   ]
  },
  {
   "cell_type": "code",
   "execution_count": 36,
   "metadata": {
    "collapsed": false
   },
   "outputs": [
    {
     "name": "stdout",
     "output_type": "stream",
     "text": [
      "Tests Passed\n"
     ]
    }
   ],
   "source": [
    "def decoding_layer(dec_input, encoder_state,\n",
    "                   target_sequence_length, max_target_sequence_length,\n",
    "                   rnn_size,\n",
    "                   num_layers, target_vocab_to_int, target_vocab_size,\n",
    "                   batch_size, keep_prob, decoding_embedding_size):\n",
    "    \"\"\"\n",
    "    Create decoding layer\n",
    "    :param dec_input: Decoder input\n",
    "    :param encoder_state: Encoder state\n",
    "    :param target_sequence_length: The lengths of each sequence in the target batch\n",
    "    :param max_target_sequence_length: Maximum length of target sequences\n",
    "    :param rnn_size: RNN Size\n",
    "    :param num_layers: Number of layers\n",
    "    :param target_vocab_to_int: Dictionary to go from the target words to an id\n",
    "    :param target_vocab_size: Size of target vocabulary\n",
    "    :param batch_size: The size of the batch\n",
    "    :param keep_prob: Dropout keep probability\n",
    "    :param decoding_embedding_size: Decoding embedding size\n",
    "    :return: Tuple of (Training BasicDecoderOutput, Inference BasicDecoderOutput)\n",
    "    \"\"\"\n",
    "    # TODO: Implement Function\n",
    "    dec_embeddings = tf.Variable(tf.random_uniform([target_vocab_size, decoding_embedding_size]))\n",
    "    dec_embed_input = tf.nn.embedding_lookup(dec_embeddings, dec_input)\n",
    "    \n",
    "    def lstm_cell():\n",
    "        return tf.contrib.rnn.LSTMCell(rnn_size,\n",
    "                                     initializer=tf.random_uniform_initializer(-0.1, 0.1, seed=2))\n",
    "\n",
    "    dec_cell = tf.contrib.rnn.MultiRNNCell([lstm_cell() for _ in range(num_layers)])\n",
    "    \n",
    "    output_layer = Dense(target_vocab_size,\n",
    "                         kernel_initializer = tf.truncated_normal_initializer(mean = 0.0, stddev=0.1))\n",
    "    \n",
    "    with tf.variable_scope(\"decode\"):\n",
    "        \n",
    "        logits = decoding_layer_train(encoder_state, dec_cell, \n",
    "                         dec_embed_input, target_sequence_length, \n",
    "                         max_target_sequence_length, output_layer, keep_prob) \n",
    "        \n",
    "    with tf.variable_scope(\"decode\",reuse=True):\n",
    "        \n",
    "        infer = decoding_layer_infer(encoder_state, dec_cell, dec_embeddings, \n",
    "                             target_vocab_to_int['<GO>'], target_vocab_to_int['<EOS>'], \n",
    "                             max_target_sequence_length, target_vocab_size, \n",
    "                             output_layer, batch_size, keep_prob)\n",
    "    \n",
    "    return logits, infer\n",
    "\n",
    "\n",
    "\n",
    "\"\"\"\n",
    "DON'T MODIFY ANYTHING IN THIS CELL THAT IS BELOW THIS LINE\n",
    "\"\"\"\n",
    "tests.test_decoding_layer(decoding_layer)"
   ]
  },
  {
   "cell_type": "markdown",
   "metadata": {},
   "source": [
    "### Build the Neural Network\n",
    "Apply the functions you implemented above to:\n",
    "\n",
    "- Encode the input using your `encoding_layer(rnn_inputs, rnn_size, num_layers, keep_prob,  source_sequence_length, source_vocab_size, encoding_embedding_size)`.\n",
    "- Process target data using your `process_decoder_input(target_data, target_vocab_to_int, batch_size)` function.\n",
    "- Decode the encoded input using your `decoding_layer(dec_input, enc_state, target_sequence_length, max_target_sentence_length, rnn_size, num_layers, target_vocab_to_int, target_vocab_size, batch_size, keep_prob, dec_embedding_size)` function."
   ]
  },
  {
   "cell_type": "code",
   "execution_count": 38,
   "metadata": {
    "collapsed": false
   },
   "outputs": [
    {
     "name": "stdout",
     "output_type": "stream",
     "text": [
      "Tests Passed\n"
     ]
    }
   ],
   "source": [
    "def seq2seq_model(input_data, target_data, keep_prob, batch_size,\n",
    "                  source_sequence_length, target_sequence_length,\n",
    "                  max_target_sentence_length,\n",
    "                  source_vocab_size, target_vocab_size,\n",
    "                  enc_embedding_size, dec_embedding_size,\n",
    "                  rnn_size, num_layers, target_vocab_to_int):\n",
    "    \"\"\"\n",
    "    Build the Sequence-to-Sequence part of the neural network\n",
    "    :param input_data: Input placeholder\n",
    "    :param target_data: Target placeholder\n",
    "    :param keep_prob: Dropout keep probability placeholder\n",
    "    :param batch_size: Batch Size\n",
    "    :param source_sequence_length: Sequence Lengths of source sequences in the batch\n",
    "    :param target_sequence_length: Sequence Lengths of target sequences in the batch\n",
    "    :param source_vocab_size: Source vocabulary size\n",
    "    :param target_vocab_size: Target vocabulary size\n",
    "    :param enc_embedding_size: Decoder embedding size\n",
    "    :param dec_embedding_size: Encoder embedding size\n",
    "    :param rnn_size: RNN Size\n",
    "    :param num_layers: Number of layers\n",
    "    :param target_vocab_to_int: Dictionary to go from the target words to an id\n",
    "    :return: Tuple of (Training BasicDecoderOutput, Inference BasicDecoderOutput)\n",
    "    \"\"\"\n",
    "    # TODO: Implement Function\n",
    "    _, enc_state = encoding_layer(input_data, rnn_size, \n",
    "                   num_layers, keep_prob,  \n",
    "                   source_sequence_length, \n",
    "                   source_vocab_size, \n",
    "                   enc_embedding_size)\n",
    "    \n",
    "    dec_input = process_decoder_input(target_data, target_vocab_to_int, batch_size)\n",
    "    \n",
    "    training_decoder_output, inference_decoder_output = decoding_layer(dec_input, enc_state, \n",
    "                                                                       target_sequence_length, \n",
    "                                                                       max_target_sentence_length, \n",
    "                                                                       rnn_size, num_layers, \n",
    "                                                                       target_vocab_to_int, \n",
    "                                                                       target_vocab_size, \n",
    "                                                                       batch_size, keep_prob, \n",
    "                                                                       dec_embedding_size)\n",
    "    \n",
    "    return training_decoder_output, inference_decoder_output\n",
    "\n",
    "\n",
    "\"\"\"\n",
    "DON'T MODIFY ANYTHING IN THIS CELL THAT IS BELOW THIS LINE\n",
    "\"\"\"\n",
    "tests.test_seq2seq_model(seq2seq_model)"
   ]
  },
  {
   "cell_type": "markdown",
   "metadata": {},
   "source": [
    "## Neural Network Training\n",
    "### Hyperparameters\n",
    "Tune the following parameters:\n",
    "\n",
    "- Set `epochs` to the number of epochs.\n",
    "- Set `batch_size` to the batch size.\n",
    "- Set `rnn_size` to the size of the RNNs.\n",
    "- Set `num_layers` to the number of layers.\n",
    "- Set `encoding_embedding_size` to the size of the embedding for the encoder.\n",
    "- Set `decoding_embedding_size` to the size of the embedding for the decoder.\n",
    "- Set `learning_rate` to the learning rate.\n",
    "- Set `keep_probability` to the Dropout keep probability\n",
    "- Set `display_step` to state how many steps between each debug output statement"
   ]
  },
  {
   "cell_type": "code",
   "execution_count": 39,
   "metadata": {
    "collapsed": true
   },
   "outputs": [],
   "source": [
    "# Number of Epochs\n",
    "epochs = 60\n",
    "# Batch Size\n",
    "batch_size = 128\n",
    "# RNN Size\n",
    "rnn_size = 50\n",
    "# Number of Layers\n",
    "num_layers = 2\n",
    "# Embedding Size\n",
    "encoding_embedding_size = 15\n",
    "decoding_embedding_size = 15\n",
    "# Learning Rate\n",
    "learning_rate = 0.001\n",
    "# Dropout Keep Probability\n",
    "keep_probability = .70\n",
    "display_step = 100"
   ]
  },
  {
   "cell_type": "markdown",
   "metadata": {},
   "source": [
    "### Build the Graph\n",
    "Build the graph using the neural network you implemented."
   ]
  },
  {
   "cell_type": "code",
   "execution_count": 40,
   "metadata": {
    "collapsed": true
   },
   "outputs": [],
   "source": [
    "\"\"\"\n",
    "DON'T MODIFY ANYTHING IN THIS CELL\n",
    "\"\"\"\n",
    "save_path = 'checkpoints/dev'\n",
    "(source_int_text, target_int_text), (source_vocab_to_int, target_vocab_to_int), _ = helper.load_preprocess()\n",
    "max_target_sentence_length = max([len(sentence) for sentence in source_int_text])\n",
    "\n",
    "train_graph = tf.Graph()\n",
    "with train_graph.as_default():\n",
    "    input_data, targets, lr, keep_prob, target_sequence_length, max_target_sequence_length, source_sequence_length = model_inputs()\n",
    "\n",
    "    #sequence_length = tf.placeholder_with_default(max_target_sentence_length, None, name='sequence_length')\n",
    "    input_shape = tf.shape(input_data)\n",
    "\n",
    "    train_logits, inference_logits = seq2seq_model(tf.reverse(input_data, [-1]),\n",
    "                                                   targets,\n",
    "                                                   keep_prob,\n",
    "                                                   batch_size,\n",
    "                                                   source_sequence_length,\n",
    "                                                   target_sequence_length,\n",
    "                                                   max_target_sequence_length,\n",
    "                                                   len(source_vocab_to_int),\n",
    "                                                   len(target_vocab_to_int),\n",
    "                                                   encoding_embedding_size,\n",
    "                                                   decoding_embedding_size,\n",
    "                                                   rnn_size,\n",
    "                                                   num_layers,\n",
    "                                                   target_vocab_to_int)\n",
    "\n",
    "\n",
    "    training_logits = tf.identity(train_logits.rnn_output, name='logits')\n",
    "    inference_logits = tf.identity(inference_logits.sample_id, name='predictions')\n",
    "\n",
    "    masks = tf.sequence_mask(target_sequence_length, max_target_sequence_length, dtype=tf.float32, name='masks')\n",
    "\n",
    "    with tf.name_scope(\"optimization\"):\n",
    "        # Loss function\n",
    "        cost = tf.contrib.seq2seq.sequence_loss(\n",
    "            training_logits,\n",
    "            targets,\n",
    "            masks)\n",
    "\n",
    "        # Optimizer\n",
    "        optimizer = tf.train.AdamOptimizer(lr)\n",
    "\n",
    "        # Gradient Clipping\n",
    "        gradients = optimizer.compute_gradients(cost)\n",
    "        capped_gradients = [(tf.clip_by_value(grad, -1., 1.), var) for grad, var in gradients if grad is not None]\n",
    "        train_op = optimizer.apply_gradients(capped_gradients)\n"
   ]
  },
  {
   "cell_type": "markdown",
   "metadata": {},
   "source": [
    "Batch and pad the source and target sequences"
   ]
  },
  {
   "cell_type": "code",
   "execution_count": 41,
   "metadata": {
    "collapsed": true
   },
   "outputs": [],
   "source": [
    "\"\"\"\n",
    "DON'T MODIFY ANYTHING IN THIS CELL\n",
    "\"\"\"\n",
    "def pad_sentence_batch(sentence_batch, pad_int):\n",
    "    \"\"\"Pad sentences with <PAD> so that each sentence of a batch has the same length\"\"\"\n",
    "    max_sentence = max([len(sentence) for sentence in sentence_batch])\n",
    "    return [sentence + [pad_int] * (max_sentence - len(sentence)) for sentence in sentence_batch]\n",
    "\n",
    "\n",
    "def get_batches(sources, targets, batch_size, source_pad_int, target_pad_int):\n",
    "    \"\"\"Batch targets, sources, and the lengths of their sentences together\"\"\"\n",
    "    for batch_i in range(0, len(sources)//batch_size):\n",
    "        start_i = batch_i * batch_size\n",
    "\n",
    "        # Slice the right amount for the batch\n",
    "        sources_batch = sources[start_i:start_i + batch_size]\n",
    "        targets_batch = targets[start_i:start_i + batch_size]\n",
    "\n",
    "        # Pad\n",
    "        pad_sources_batch = np.array(pad_sentence_batch(sources_batch, source_pad_int))\n",
    "        pad_targets_batch = np.array(pad_sentence_batch(targets_batch, target_pad_int))\n",
    "\n",
    "        # Need the lengths for the _lengths parameters\n",
    "        pad_targets_lengths = []\n",
    "        for target in pad_targets_batch:\n",
    "            pad_targets_lengths.append(len(target))\n",
    "\n",
    "        pad_source_lengths = []\n",
    "        for source in pad_sources_batch:\n",
    "            pad_source_lengths.append(len(source))\n",
    "\n",
    "        yield pad_sources_batch, pad_targets_batch, pad_source_lengths, pad_targets_lengths\n"
   ]
  },
  {
   "cell_type": "markdown",
   "metadata": {},
   "source": [
    "### Train\n",
    "Train the neural network on the preprocessed data. If you have a hard time getting a good loss, check the forms to see if anyone is having the same problem."
   ]
  },
  {
   "cell_type": "code",
   "execution_count": 42,
   "metadata": {
    "collapsed": false,
    "scrolled": true
   },
   "outputs": [
    {
     "name": "stdout",
     "output_type": "stream",
     "text": [
      "Epoch   0 Batch  100/1077 - Train Accuracy: 0.0820, Validation Accuracy: 0.0678, Loss: 2.8895\n",
      "Epoch   0 Batch  200/1077 - Train Accuracy: 0.2250, Validation Accuracy: 0.2141, Loss: 2.0442\n",
      "Epoch   0 Batch  300/1077 - Train Accuracy: 0.1377, Validation Accuracy: 0.1296, Loss: 1.4764\n",
      "Epoch   0 Batch  400/1077 - Train Accuracy: 0.2875, Validation Accuracy: 0.2777, Loss: 1.0672\n",
      "Epoch   0 Batch  500/1077 - Train Accuracy: 0.4074, Validation Accuracy: 0.4489, Loss: 0.8931\n",
      "Epoch   0 Batch  600/1077 - Train Accuracy: 0.5004, Validation Accuracy: 0.5252, Loss: 0.7818\n",
      "Epoch   0 Batch  700/1077 - Train Accuracy: 0.4832, Validation Accuracy: 0.5415, Loss: 0.7573\n",
      "Epoch   0 Batch  800/1077 - Train Accuracy: 0.4789, Validation Accuracy: 0.5380, Loss: 0.7446\n",
      "Epoch   0 Batch  900/1077 - Train Accuracy: 0.4766, Validation Accuracy: 0.5437, Loss: 0.7424\n",
      "Epoch   0 Batch 1000/1077 - Train Accuracy: 0.5327, Validation Accuracy: 0.5494, Loss: 0.6497\n",
      "Epoch   1 Batch  100/1077 - Train Accuracy: 0.5090, Validation Accuracy: 0.5621, Loss: 0.6992\n",
      "Epoch   1 Batch  200/1077 - Train Accuracy: 0.4813, Validation Accuracy: 0.5597, Loss: 0.7009\n",
      "Epoch   1 Batch  300/1077 - Train Accuracy: 0.4910, Validation Accuracy: 0.5508, Loss: 0.6844\n",
      "Epoch   1 Batch  400/1077 - Train Accuracy: 0.5074, Validation Accuracy: 0.5515, Loss: 0.6666\n",
      "Epoch   1 Batch  500/1077 - Train Accuracy: 0.5500, Validation Accuracy: 0.5621, Loss: 0.6667\n",
      "Epoch   1 Batch  600/1077 - Train Accuracy: 0.5606, Validation Accuracy: 0.5760, Loss: 0.6110\n",
      "Epoch   1 Batch  700/1077 - Train Accuracy: 0.5152, Validation Accuracy: 0.5668, Loss: 0.6555\n",
      "Epoch   1 Batch  800/1077 - Train Accuracy: 0.5250, Validation Accuracy: 0.5749, Loss: 0.6390\n",
      "Epoch   1 Batch  900/1077 - Train Accuracy: 0.5184, Validation Accuracy: 0.5632, Loss: 0.6508\n",
      "Epoch   1 Batch 1000/1077 - Train Accuracy: 0.6038, Validation Accuracy: 0.5927, Loss: 0.5899\n",
      "Epoch   2 Batch  100/1077 - Train Accuracy: 0.5801, Validation Accuracy: 0.5902, Loss: 0.6389\n",
      "Epoch   2 Batch  200/1077 - Train Accuracy: 0.5211, Validation Accuracy: 0.5852, Loss: 0.6507\n",
      "Epoch   2 Batch  300/1077 - Train Accuracy: 0.5193, Validation Accuracy: 0.5767, Loss: 0.6334\n",
      "Epoch   2 Batch  400/1077 - Train Accuracy: 0.5559, Validation Accuracy: 0.5909, Loss: 0.6327\n",
      "Epoch   2 Batch  500/1077 - Train Accuracy: 0.5516, Validation Accuracy: 0.5732, Loss: 0.6128\n",
      "Epoch   2 Batch  600/1077 - Train Accuracy: 0.5551, Validation Accuracy: 0.5838, Loss: 0.5918\n",
      "Epoch   2 Batch  700/1077 - Train Accuracy: 0.5363, Validation Accuracy: 0.5955, Loss: 0.6171\n",
      "Epoch   2 Batch  800/1077 - Train Accuracy: 0.5266, Validation Accuracy: 0.5763, Loss: 0.6156\n",
      "Epoch   2 Batch  900/1077 - Train Accuracy: 0.5453, Validation Accuracy: 0.5849, Loss: 0.6111\n",
      "Epoch   2 Batch 1000/1077 - Train Accuracy: 0.5956, Validation Accuracy: 0.6019, Loss: 0.5584\n",
      "Epoch   3 Batch  100/1077 - Train Accuracy: 0.5922, Validation Accuracy: 0.6062, Loss: 0.6122\n",
      "Epoch   3 Batch  200/1077 - Train Accuracy: 0.5324, Validation Accuracy: 0.6076, Loss: 0.6254\n",
      "Epoch   3 Batch  300/1077 - Train Accuracy: 0.4507, Validation Accuracy: 0.5245, Loss: 0.6187\n",
      "Epoch   3 Batch  400/1077 - Train Accuracy: 0.5543, Validation Accuracy: 0.5980, Loss: 0.6173\n",
      "Epoch   3 Batch  500/1077 - Train Accuracy: 0.5535, Validation Accuracy: 0.5884, Loss: 0.6020\n",
      "Epoch   3 Batch  600/1077 - Train Accuracy: 0.5655, Validation Accuracy: 0.6044, Loss: 0.5689\n",
      "Epoch   3 Batch  700/1077 - Train Accuracy: 0.5270, Validation Accuracy: 0.5778, Loss: 0.6079\n",
      "Epoch   3 Batch  800/1077 - Train Accuracy: 0.5285, Validation Accuracy: 0.5902, Loss: 0.6053\n",
      "Epoch   3 Batch  900/1077 - Train Accuracy: 0.5586, Validation Accuracy: 0.5994, Loss: 0.5985\n",
      "Epoch   3 Batch 1000/1077 - Train Accuracy: 0.6016, Validation Accuracy: 0.6090, Loss: 0.5430\n",
      "Epoch   4 Batch  100/1077 - Train Accuracy: 0.5891, Validation Accuracy: 0.6104, Loss: 0.5977\n",
      "Epoch   4 Batch  200/1077 - Train Accuracy: 0.5363, Validation Accuracy: 0.6094, Loss: 0.6030\n",
      "Epoch   4 Batch  300/1077 - Train Accuracy: 0.4692, Validation Accuracy: 0.5270, Loss: 0.6037\n",
      "Epoch   4 Batch  400/1077 - Train Accuracy: 0.5656, Validation Accuracy: 0.5831, Loss: 0.5904\n",
      "Epoch   4 Batch  500/1077 - Train Accuracy: 0.5609, Validation Accuracy: 0.5927, Loss: 0.5983\n",
      "Epoch   4 Batch  600/1077 - Train Accuracy: 0.5692, Validation Accuracy: 0.6101, Loss: 0.5487\n",
      "Epoch   4 Batch  700/1077 - Train Accuracy: 0.5449, Validation Accuracy: 0.5941, Loss: 0.5964\n",
      "Epoch   4 Batch  800/1077 - Train Accuracy: 0.5332, Validation Accuracy: 0.5923, Loss: 0.5957\n",
      "Epoch   4 Batch  900/1077 - Train Accuracy: 0.5617, Validation Accuracy: 0.5959, Loss: 0.5824\n",
      "Epoch   4 Batch 1000/1077 - Train Accuracy: 0.6004, Validation Accuracy: 0.6048, Loss: 0.5360\n",
      "Epoch   5 Batch  100/1077 - Train Accuracy: 0.6020, Validation Accuracy: 0.5994, Loss: 0.5937\n",
      "Epoch   5 Batch  200/1077 - Train Accuracy: 0.5375, Validation Accuracy: 0.6083, Loss: 0.6078\n",
      "Epoch   5 Batch  300/1077 - Train Accuracy: 0.4889, Validation Accuracy: 0.5366, Loss: 0.5992\n",
      "Epoch   5 Batch  400/1077 - Train Accuracy: 0.5750, Validation Accuracy: 0.6023, Loss: 0.5949\n",
      "Epoch   5 Batch  500/1077 - Train Accuracy: 0.5816, Validation Accuracy: 0.6126, Loss: 0.5919\n",
      "Epoch   5 Batch  600/1077 - Train Accuracy: 0.5666, Validation Accuracy: 0.6023, Loss: 0.5564\n",
      "Epoch   5 Batch  700/1077 - Train Accuracy: 0.5434, Validation Accuracy: 0.5881, Loss: 0.5851\n",
      "Epoch   5 Batch  800/1077 - Train Accuracy: 0.5301, Validation Accuracy: 0.6051, Loss: 0.5922\n",
      "Epoch   5 Batch  900/1077 - Train Accuracy: 0.5598, Validation Accuracy: 0.5955, Loss: 0.5776\n",
      "Epoch   5 Batch 1000/1077 - Train Accuracy: 0.6079, Validation Accuracy: 0.6012, Loss: 0.5348\n",
      "Epoch   6 Batch  100/1077 - Train Accuracy: 0.6043, Validation Accuracy: 0.6026, Loss: 0.5983\n",
      "Epoch   6 Batch  200/1077 - Train Accuracy: 0.5344, Validation Accuracy: 0.6009, Loss: 0.5933\n",
      "Epoch   6 Batch  300/1077 - Train Accuracy: 0.4860, Validation Accuracy: 0.5334, Loss: 0.5908\n",
      "Epoch   6 Batch  400/1077 - Train Accuracy: 0.5742, Validation Accuracy: 0.6023, Loss: 0.5771\n",
      "Epoch   6 Batch  500/1077 - Train Accuracy: 0.5863, Validation Accuracy: 0.6087, Loss: 0.5867\n",
      "Epoch   6 Batch  600/1077 - Train Accuracy: 0.5740, Validation Accuracy: 0.6094, Loss: 0.5433\n",
      "Epoch   6 Batch  700/1077 - Train Accuracy: 0.5328, Validation Accuracy: 0.5945, Loss: 0.5846\n",
      "Epoch   6 Batch  800/1077 - Train Accuracy: 0.5391, Validation Accuracy: 0.5881, Loss: 0.5874\n",
      "Epoch   6 Batch  900/1077 - Train Accuracy: 0.5582, Validation Accuracy: 0.5980, Loss: 0.5743\n",
      "Epoch   6 Batch 1000/1077 - Train Accuracy: 0.6031, Validation Accuracy: 0.6094, Loss: 0.5313\n",
      "Epoch   7 Batch  100/1077 - Train Accuracy: 0.6148, Validation Accuracy: 0.6168, Loss: 0.5895\n",
      "Epoch   7 Batch  200/1077 - Train Accuracy: 0.5523, Validation Accuracy: 0.6065, Loss: 0.5889\n",
      "Epoch   7 Batch  300/1077 - Train Accuracy: 0.4700, Validation Accuracy: 0.5359, Loss: 0.5921\n",
      "Epoch   7 Batch  400/1077 - Train Accuracy: 0.5695, Validation Accuracy: 0.6051, Loss: 0.5757\n",
      "Epoch   7 Batch  500/1077 - Train Accuracy: 0.5883, Validation Accuracy: 0.6065, Loss: 0.5853\n",
      "Epoch   7 Batch  600/1077 - Train Accuracy: 0.5722, Validation Accuracy: 0.6083, Loss: 0.5463\n",
      "Epoch   7 Batch  700/1077 - Train Accuracy: 0.5453, Validation Accuracy: 0.6065, Loss: 0.5839\n",
      "Epoch   7 Batch  800/1077 - Train Accuracy: 0.5344, Validation Accuracy: 0.5980, Loss: 0.5850\n",
      "Epoch   7 Batch  900/1077 - Train Accuracy: 0.5629, Validation Accuracy: 0.5994, Loss: 0.5760\n",
      "Epoch   7 Batch 1000/1077 - Train Accuracy: 0.6034, Validation Accuracy: 0.6072, Loss: 0.5297\n",
      "Epoch   8 Batch  100/1077 - Train Accuracy: 0.5965, Validation Accuracy: 0.6044, Loss: 0.5839\n",
      "Epoch   8 Batch  200/1077 - Train Accuracy: 0.5473, Validation Accuracy: 0.6129, Loss: 0.5924\n",
      "Epoch   8 Batch  300/1077 - Train Accuracy: 0.4725, Validation Accuracy: 0.5320, Loss: 0.5895\n",
      "Epoch   8 Batch  400/1077 - Train Accuracy: 0.5680, Validation Accuracy: 0.6097, Loss: 0.5856\n",
      "Epoch   8 Batch  500/1077 - Train Accuracy: 0.5875, Validation Accuracy: 0.6072, Loss: 0.5804\n",
      "Epoch   8 Batch  600/1077 - Train Accuracy: 0.5740, Validation Accuracy: 0.6143, Loss: 0.5397\n",
      "Epoch   8 Batch  700/1077 - Train Accuracy: 0.5461, Validation Accuracy: 0.6019, Loss: 0.5831\n",
      "Epoch   8 Batch  800/1077 - Train Accuracy: 0.5203, Validation Accuracy: 0.5827, Loss: 0.5785\n",
      "Epoch   8 Batch  900/1077 - Train Accuracy: 0.5609, Validation Accuracy: 0.5987, Loss: 0.5709\n",
      "Epoch   8 Batch 1000/1077 - Train Accuracy: 0.6060, Validation Accuracy: 0.6058, Loss: 0.5229\n",
      "Epoch   9 Batch  100/1077 - Train Accuracy: 0.6145, Validation Accuracy: 0.6101, Loss: 0.5780\n",
      "Epoch   9 Batch  200/1077 - Train Accuracy: 0.5473, Validation Accuracy: 0.6133, Loss: 0.5920\n",
      "Epoch   9 Batch  300/1077 - Train Accuracy: 0.4905, Validation Accuracy: 0.5362, Loss: 0.5852\n",
      "Epoch   9 Batch  400/1077 - Train Accuracy: 0.5637, Validation Accuracy: 0.6080, Loss: 0.5847\n",
      "Epoch   9 Batch  500/1077 - Train Accuracy: 0.5848, Validation Accuracy: 0.6080, Loss: 0.5743\n",
      "Epoch   9 Batch  600/1077 - Train Accuracy: 0.5733, Validation Accuracy: 0.6108, Loss: 0.5434\n",
      "Epoch   9 Batch  700/1077 - Train Accuracy: 0.5453, Validation Accuracy: 0.6012, Loss: 0.5808\n",
      "Epoch   9 Batch  800/1077 - Train Accuracy: 0.5348, Validation Accuracy: 0.6012, Loss: 0.5806\n",
      "Epoch   9 Batch  900/1077 - Train Accuracy: 0.5535, Validation Accuracy: 0.5866, Loss: 0.5611\n",
      "Epoch   9 Batch 1000/1077 - Train Accuracy: 0.5986, Validation Accuracy: 0.6080, Loss: 0.5240\n",
      "Epoch  10 Batch  100/1077 - Train Accuracy: 0.6090, Validation Accuracy: 0.6104, Loss: 0.5806\n",
      "Epoch  10 Batch  200/1077 - Train Accuracy: 0.5500, Validation Accuracy: 0.6112, Loss: 0.5898\n",
      "Epoch  10 Batch  300/1077 - Train Accuracy: 0.4757, Validation Accuracy: 0.5334, Loss: 0.5842\n",
      "Epoch  10 Batch  400/1077 - Train Accuracy: 0.5723, Validation Accuracy: 0.6009, Loss: 0.5776\n",
      "Epoch  10 Batch  500/1077 - Train Accuracy: 0.5625, Validation Accuracy: 0.5966, Loss: 0.5795\n",
      "Epoch  10 Batch  600/1077 - Train Accuracy: 0.5770, Validation Accuracy: 0.5991, Loss: 0.5395\n",
      "Epoch  10 Batch  700/1077 - Train Accuracy: 0.5402, Validation Accuracy: 0.6072, Loss: 0.5783\n",
      "Epoch  10 Batch  800/1077 - Train Accuracy: 0.5383, Validation Accuracy: 0.5945, Loss: 0.5738\n",
      "Epoch  10 Batch  900/1077 - Train Accuracy: 0.5645, Validation Accuracy: 0.6009, Loss: 0.5665\n",
      "Epoch  10 Batch 1000/1077 - Train Accuracy: 0.6075, Validation Accuracy: 0.6055, Loss: 0.5217\n",
      "Epoch  11 Batch  100/1077 - Train Accuracy: 0.6133, Validation Accuracy: 0.6158, Loss: 0.5806\n",
      "Epoch  11 Batch  200/1077 - Train Accuracy: 0.5527, Validation Accuracy: 0.6101, Loss: 0.5859\n",
      "Epoch  11 Batch  300/1077 - Train Accuracy: 0.4819, Validation Accuracy: 0.5384, Loss: 0.5830\n",
      "Epoch  11 Batch  400/1077 - Train Accuracy: 0.5703, Validation Accuracy: 0.6080, Loss: 0.5747\n",
      "Epoch  11 Batch  500/1077 - Train Accuracy: 0.5777, Validation Accuracy: 0.6083, Loss: 0.5801\n",
      "Epoch  11 Batch  600/1077 - Train Accuracy: 0.5658, Validation Accuracy: 0.6062, Loss: 0.5390\n",
      "Epoch  11 Batch  700/1077 - Train Accuracy: 0.5488, Validation Accuracy: 0.6055, Loss: 0.5698\n",
      "Epoch  11 Batch  800/1077 - Train Accuracy: 0.5430, Validation Accuracy: 0.6069, Loss: 0.5780\n",
      "Epoch  11 Batch  900/1077 - Train Accuracy: 0.5621, Validation Accuracy: 0.6019, Loss: 0.5700\n",
      "Epoch  11 Batch 1000/1077 - Train Accuracy: 0.6027, Validation Accuracy: 0.6051, Loss: 0.5311\n",
      "Epoch  12 Batch  100/1077 - Train Accuracy: 0.6129, Validation Accuracy: 0.6143, Loss: 0.5771\n",
      "Epoch  12 Batch  200/1077 - Train Accuracy: 0.5516, Validation Accuracy: 0.6129, Loss: 0.5848\n",
      "Epoch  12 Batch  300/1077 - Train Accuracy: 0.4836, Validation Accuracy: 0.5210, Loss: 0.5841\n",
      "Epoch  12 Batch  400/1077 - Train Accuracy: 0.5762, Validation Accuracy: 0.6076, Loss: 0.5708\n",
      "Epoch  12 Batch  500/1077 - Train Accuracy: 0.5641, Validation Accuracy: 0.5916, Loss: 0.5743\n",
      "Epoch  12 Batch  600/1077 - Train Accuracy: 0.5711, Validation Accuracy: 0.6140, Loss: 0.5428\n",
      "Epoch  12 Batch  700/1077 - Train Accuracy: 0.5383, Validation Accuracy: 0.5991, Loss: 0.5720\n",
      "Epoch  12 Batch  800/1077 - Train Accuracy: 0.5332, Validation Accuracy: 0.6033, Loss: 0.5716\n",
      "Epoch  12 Batch  900/1077 - Train Accuracy: 0.5602, Validation Accuracy: 0.6001, Loss: 0.5650\n",
      "Epoch  12 Batch 1000/1077 - Train Accuracy: 0.5986, Validation Accuracy: 0.6026, Loss: 0.5241\n",
      "Epoch  13 Batch  100/1077 - Train Accuracy: 0.5945, Validation Accuracy: 0.5994, Loss: 0.5830\n",
      "Epoch  13 Batch  200/1077 - Train Accuracy: 0.5531, Validation Accuracy: 0.6119, Loss: 0.5840\n",
      "Epoch  13 Batch  300/1077 - Train Accuracy: 0.4786, Validation Accuracy: 0.5302, Loss: 0.5793\n",
      "Epoch  13 Batch  400/1077 - Train Accuracy: 0.5719, Validation Accuracy: 0.6087, Loss: 0.5691\n",
      "Epoch  13 Batch  500/1077 - Train Accuracy: 0.5703, Validation Accuracy: 0.5881, Loss: 0.5778\n",
      "Epoch  13 Batch  600/1077 - Train Accuracy: 0.5763, Validation Accuracy: 0.6147, Loss: 0.5342\n",
      "Epoch  13 Batch  700/1077 - Train Accuracy: 0.5418, Validation Accuracy: 0.6012, Loss: 0.5654\n",
      "Epoch  13 Batch  800/1077 - Train Accuracy: 0.5348, Validation Accuracy: 0.6055, Loss: 0.5694\n",
      "Epoch  13 Batch  900/1077 - Train Accuracy: 0.5621, Validation Accuracy: 0.6023, Loss: 0.5681\n",
      "Epoch  13 Batch 1000/1077 - Train Accuracy: 0.6023, Validation Accuracy: 0.6076, Loss: 0.5185\n",
      "Epoch  14 Batch  100/1077 - Train Accuracy: 0.6020, Validation Accuracy: 0.6080, Loss: 0.5746\n",
      "Epoch  14 Batch  200/1077 - Train Accuracy: 0.5465, Validation Accuracy: 0.6083, Loss: 0.5865\n",
      "Epoch  14 Batch  300/1077 - Train Accuracy: 0.4922, Validation Accuracy: 0.5334, Loss: 0.5848\n",
      "Epoch  14 Batch  400/1077 - Train Accuracy: 0.5711, Validation Accuracy: 0.6051, Loss: 0.5722\n",
      "Epoch  14 Batch  500/1077 - Train Accuracy: 0.5621, Validation Accuracy: 0.5838, Loss: 0.5760\n",
      "Epoch  14 Batch  600/1077 - Train Accuracy: 0.5722, Validation Accuracy: 0.6154, Loss: 0.5394\n",
      "Epoch  14 Batch  700/1077 - Train Accuracy: 0.5434, Validation Accuracy: 0.6012, Loss: 0.5770\n",
      "Epoch  14 Batch  800/1077 - Train Accuracy: 0.5348, Validation Accuracy: 0.6012, Loss: 0.5722\n",
      "Epoch  14 Batch  900/1077 - Train Accuracy: 0.5441, Validation Accuracy: 0.5795, Loss: 0.5620\n",
      "Epoch  14 Batch 1000/1077 - Train Accuracy: 0.5986, Validation Accuracy: 0.6065, Loss: 0.5244\n",
      "Epoch  15 Batch  100/1077 - Train Accuracy: 0.6074, Validation Accuracy: 0.6080, Loss: 0.5794\n",
      "Epoch  15 Batch  200/1077 - Train Accuracy: 0.5406, Validation Accuracy: 0.5955, Loss: 0.5779\n",
      "Epoch  15 Batch  300/1077 - Train Accuracy: 0.4819, Validation Accuracy: 0.5202, Loss: 0.5789\n",
      "Epoch  15 Batch  400/1077 - Train Accuracy: 0.5723, Validation Accuracy: 0.6076, Loss: 0.5724\n",
      "Epoch  15 Batch  500/1077 - Train Accuracy: 0.5770, Validation Accuracy: 0.6037, Loss: 0.5780\n",
      "Epoch  15 Batch  600/1077 - Train Accuracy: 0.5711, Validation Accuracy: 0.6104, Loss: 0.5306\n",
      "Epoch  15 Batch  700/1077 - Train Accuracy: 0.5336, Validation Accuracy: 0.5984, Loss: 0.5694\n",
      "Epoch  15 Batch  800/1077 - Train Accuracy: 0.5273, Validation Accuracy: 0.6030, Loss: 0.5858\n",
      "Epoch  15 Batch  900/1077 - Train Accuracy: 0.5629, Validation Accuracy: 0.6019, Loss: 0.5609\n",
      "Epoch  15 Batch 1000/1077 - Train Accuracy: 0.6012, Validation Accuracy: 0.6016, Loss: 0.5249\n",
      "Epoch  16 Batch  100/1077 - Train Accuracy: 0.6066, Validation Accuracy: 0.6179, Loss: 0.5684\n",
      "Epoch  16 Batch  200/1077 - Train Accuracy: 0.5492, Validation Accuracy: 0.6108, Loss: 0.5750\n",
      "Epoch  16 Batch  300/1077 - Train Accuracy: 0.4831, Validation Accuracy: 0.5210, Loss: 0.5818\n",
      "Epoch  16 Batch  400/1077 - Train Accuracy: 0.5703, Validation Accuracy: 0.6062, Loss: 0.5679\n",
      "Epoch  16 Batch  500/1077 - Train Accuracy: 0.5836, Validation Accuracy: 0.5955, Loss: 0.5796\n",
      "Epoch  16 Batch  600/1077 - Train Accuracy: 0.5718, Validation Accuracy: 0.6161, Loss: 0.5437\n",
      "Epoch  16 Batch  700/1077 - Train Accuracy: 0.5320, Validation Accuracy: 0.5913, Loss: 0.5749\n",
      "Epoch  16 Batch  800/1077 - Train Accuracy: 0.5395, Validation Accuracy: 0.5994, Loss: 0.5820\n",
      "Epoch  16 Batch  900/1077 - Train Accuracy: 0.5617, Validation Accuracy: 0.6016, Loss: 0.5648\n",
      "Epoch  16 Batch 1000/1077 - Train Accuracy: 0.6116, Validation Accuracy: 0.6051, Loss: 0.5180\n",
      "Epoch  17 Batch  100/1077 - Train Accuracy: 0.6121, Validation Accuracy: 0.6147, Loss: 0.5743\n",
      "Epoch  17 Batch  200/1077 - Train Accuracy: 0.5414, Validation Accuracy: 0.6001, Loss: 0.5815\n",
      "Epoch  17 Batch  300/1077 - Train Accuracy: 0.5041, Validation Accuracy: 0.5323, Loss: 0.5767\n",
      "Epoch  17 Batch  400/1077 - Train Accuracy: 0.5719, Validation Accuracy: 0.6076, Loss: 0.5667\n",
      "Epoch  17 Batch  500/1077 - Train Accuracy: 0.5836, Validation Accuracy: 0.6051, Loss: 0.5821\n",
      "Epoch  17 Batch  600/1077 - Train Accuracy: 0.5740, Validation Accuracy: 0.6143, Loss: 0.5362\n",
      "Epoch  17 Batch  700/1077 - Train Accuracy: 0.5367, Validation Accuracy: 0.6044, Loss: 0.5716\n",
      "Epoch  17 Batch  800/1077 - Train Accuracy: 0.5457, Validation Accuracy: 0.5962, Loss: 0.5705\n",
      "Epoch  17 Batch  900/1077 - Train Accuracy: 0.5582, Validation Accuracy: 0.6012, Loss: 0.5602\n",
      "Epoch  17 Batch 1000/1077 - Train Accuracy: 0.5986, Validation Accuracy: 0.6097, Loss: 0.5217\n",
      "Epoch  18 Batch  100/1077 - Train Accuracy: 0.6082, Validation Accuracy: 0.6136, Loss: 0.5721\n",
      "Epoch  18 Batch  200/1077 - Train Accuracy: 0.5449, Validation Accuracy: 0.6009, Loss: 0.5745\n",
      "Epoch  18 Batch  300/1077 - Train Accuracy: 0.4905, Validation Accuracy: 0.5277, Loss: 0.5821\n",
      "Epoch  18 Batch  400/1077 - Train Accuracy: 0.5727, Validation Accuracy: 0.6058, Loss: 0.5696\n",
      "Epoch  18 Batch  500/1077 - Train Accuracy: 0.5469, Validation Accuracy: 0.5813, Loss: 0.5828\n",
      "Epoch  18 Batch  600/1077 - Train Accuracy: 0.5714, Validation Accuracy: 0.6151, Loss: 0.5327\n",
      "Epoch  18 Batch  700/1077 - Train Accuracy: 0.5359, Validation Accuracy: 0.5966, Loss: 0.5701\n",
      "Epoch  18 Batch  800/1077 - Train Accuracy: 0.5375, Validation Accuracy: 0.5991, Loss: 0.5740\n",
      "Epoch  18 Batch  900/1077 - Train Accuracy: 0.5625, Validation Accuracy: 0.5991, Loss: 0.5581\n",
      "Epoch  18 Batch 1000/1077 - Train Accuracy: 0.6042, Validation Accuracy: 0.6101, Loss: 0.5237\n",
      "Epoch  19 Batch  100/1077 - Train Accuracy: 0.6113, Validation Accuracy: 0.6158, Loss: 0.5798\n",
      "Epoch  19 Batch  200/1077 - Train Accuracy: 0.5461, Validation Accuracy: 0.6069, Loss: 0.5748\n",
      "Epoch  19 Batch  300/1077 - Train Accuracy: 0.5296, Validation Accuracy: 0.5618, Loss: 0.5792\n",
      "Epoch  19 Batch  400/1077 - Train Accuracy: 0.5793, Validation Accuracy: 0.6016, Loss: 0.5642\n",
      "Epoch  19 Batch  500/1077 - Train Accuracy: 0.5441, Validation Accuracy: 0.5969, Loss: 0.5760\n",
      "Epoch  19 Batch  600/1077 - Train Accuracy: 0.5774, Validation Accuracy: 0.6172, Loss: 0.5398\n",
      "Epoch  19 Batch  700/1077 - Train Accuracy: 0.5402, Validation Accuracy: 0.6062, Loss: 0.5800\n",
      "Epoch  19 Batch  800/1077 - Train Accuracy: 0.5445, Validation Accuracy: 0.6076, Loss: 0.5711\n",
      "Epoch  19 Batch  900/1077 - Train Accuracy: 0.5656, Validation Accuracy: 0.6026, Loss: 0.5541\n",
      "Epoch  19 Batch 1000/1077 - Train Accuracy: 0.6064, Validation Accuracy: 0.6101, Loss: 0.5243\n",
      "Epoch  20 Batch  100/1077 - Train Accuracy: 0.5984, Validation Accuracy: 0.6101, Loss: 0.5712\n",
      "Epoch  20 Batch  200/1077 - Train Accuracy: 0.5516, Validation Accuracy: 0.6136, Loss: 0.5786\n",
      "Epoch  20 Batch  300/1077 - Train Accuracy: 0.5012, Validation Accuracy: 0.5295, Loss: 0.5798\n",
      "Epoch  20 Batch  400/1077 - Train Accuracy: 0.5746, Validation Accuracy: 0.6055, Loss: 0.5752\n",
      "Epoch  20 Batch  500/1077 - Train Accuracy: 0.5738, Validation Accuracy: 0.5906, Loss: 0.5744\n",
      "Epoch  20 Batch  600/1077 - Train Accuracy: 0.5733, Validation Accuracy: 0.6158, Loss: 0.5341\n",
      "Epoch  20 Batch  700/1077 - Train Accuracy: 0.5465, Validation Accuracy: 0.6044, Loss: 0.5721\n",
      "Epoch  20 Batch  800/1077 - Train Accuracy: 0.5398, Validation Accuracy: 0.6115, Loss: 0.5759\n",
      "Epoch  20 Batch  900/1077 - Train Accuracy: 0.5750, Validation Accuracy: 0.6112, Loss: 0.5535\n",
      "Epoch  20 Batch 1000/1077 - Train Accuracy: 0.6064, Validation Accuracy: 0.6076, Loss: 0.5199\n",
      "Epoch  21 Batch  100/1077 - Train Accuracy: 0.6055, Validation Accuracy: 0.6147, Loss: 0.5778\n",
      "Epoch  21 Batch  200/1077 - Train Accuracy: 0.5488, Validation Accuracy: 0.6168, Loss: 0.5767\n",
      "Epoch  21 Batch  300/1077 - Train Accuracy: 0.4864, Validation Accuracy: 0.5249, Loss: 0.5790\n",
      "Epoch  21 Batch  400/1077 - Train Accuracy: 0.5723, Validation Accuracy: 0.6072, Loss: 0.5705\n",
      "Epoch  21 Batch  500/1077 - Train Accuracy: 0.5684, Validation Accuracy: 0.6019, Loss: 0.5752\n",
      "Epoch  21 Batch  600/1077 - Train Accuracy: 0.5696, Validation Accuracy: 0.6090, Loss: 0.5253\n",
      "Epoch  21 Batch  700/1077 - Train Accuracy: 0.5414, Validation Accuracy: 0.6019, Loss: 0.5622\n",
      "Epoch  21 Batch  800/1077 - Train Accuracy: 0.5457, Validation Accuracy: 0.5987, Loss: 0.5733\n",
      "Epoch  21 Batch  900/1077 - Train Accuracy: 0.5699, Validation Accuracy: 0.6009, Loss: 0.5534\n",
      "Epoch  21 Batch 1000/1077 - Train Accuracy: 0.6034, Validation Accuracy: 0.6058, Loss: 0.5178\n",
      "Epoch  22 Batch  100/1077 - Train Accuracy: 0.6074, Validation Accuracy: 0.6158, Loss: 0.5760\n",
      "Epoch  22 Batch  200/1077 - Train Accuracy: 0.5484, Validation Accuracy: 0.6161, Loss: 0.5772\n",
      "Epoch  22 Batch  300/1077 - Train Accuracy: 0.5300, Validation Accuracy: 0.5575, Loss: 0.5792\n",
      "Epoch  22 Batch  400/1077 - Train Accuracy: 0.5613, Validation Accuracy: 0.6037, Loss: 0.5669\n",
      "Epoch  22 Batch  500/1077 - Train Accuracy: 0.5594, Validation Accuracy: 0.5916, Loss: 0.5747\n",
      "Epoch  22 Batch  600/1077 - Train Accuracy: 0.5792, Validation Accuracy: 0.6183, Loss: 0.5401\n",
      "Epoch  22 Batch  700/1077 - Train Accuracy: 0.5328, Validation Accuracy: 0.6012, Loss: 0.5635\n",
      "Epoch  22 Batch  800/1077 - Train Accuracy: 0.5457, Validation Accuracy: 0.5994, Loss: 0.5696\n",
      "Epoch  22 Batch  900/1077 - Train Accuracy: 0.5648, Validation Accuracy: 0.6033, Loss: 0.5569\n",
      "Epoch  22 Batch 1000/1077 - Train Accuracy: 0.6023, Validation Accuracy: 0.6151, Loss: 0.5247\n",
      "Epoch  23 Batch  100/1077 - Train Accuracy: 0.5980, Validation Accuracy: 0.6119, Loss: 0.5757\n",
      "Epoch  23 Batch  200/1077 - Train Accuracy: 0.5523, Validation Accuracy: 0.6154, Loss: 0.5714\n",
      "Epoch  23 Batch  300/1077 - Train Accuracy: 0.4864, Validation Accuracy: 0.5249, Loss: 0.5798\n",
      "Epoch  23 Batch  400/1077 - Train Accuracy: 0.5766, Validation Accuracy: 0.6051, Loss: 0.5792\n",
      "Epoch  23 Batch  500/1077 - Train Accuracy: 0.5648, Validation Accuracy: 0.5849, Loss: 0.5741\n",
      "Epoch  23 Batch  600/1077 - Train Accuracy: 0.5759, Validation Accuracy: 0.6158, Loss: 0.5306\n",
      "Epoch  23 Batch  700/1077 - Train Accuracy: 0.5504, Validation Accuracy: 0.6129, Loss: 0.5662\n",
      "Epoch  23 Batch  800/1077 - Train Accuracy: 0.5492, Validation Accuracy: 0.6030, Loss: 0.5732\n",
      "Epoch  23 Batch  900/1077 - Train Accuracy: 0.5633, Validation Accuracy: 0.5962, Loss: 0.5521\n",
      "Epoch  23 Batch 1000/1077 - Train Accuracy: 0.5811, Validation Accuracy: 0.5863, Loss: 0.5165\n",
      "Epoch  24 Batch  100/1077 - Train Accuracy: 0.5969, Validation Accuracy: 0.6140, Loss: 0.5704\n",
      "Epoch  24 Batch  200/1077 - Train Accuracy: 0.5512, Validation Accuracy: 0.6037, Loss: 0.5757\n",
      "Epoch  24 Batch  300/1077 - Train Accuracy: 0.4836, Validation Accuracy: 0.5231, Loss: 0.5815\n",
      "Epoch  24 Batch  400/1077 - Train Accuracy: 0.5738, Validation Accuracy: 0.6037, Loss: 0.5679\n",
      "Epoch  24 Batch  500/1077 - Train Accuracy: 0.5859, Validation Accuracy: 0.5955, Loss: 0.5716\n",
      "Epoch  24 Batch  600/1077 - Train Accuracy: 0.5804, Validation Accuracy: 0.6172, Loss: 0.5297\n",
      "Epoch  24 Batch  700/1077 - Train Accuracy: 0.5336, Validation Accuracy: 0.5913, Loss: 0.5641\n",
      "Epoch  24 Batch  800/1077 - Train Accuracy: 0.5379, Validation Accuracy: 0.6037, Loss: 0.5695\n",
      "Epoch  24 Batch  900/1077 - Train Accuracy: 0.5645, Validation Accuracy: 0.6012, Loss: 0.5602\n",
      "Epoch  24 Batch 1000/1077 - Train Accuracy: 0.6057, Validation Accuracy: 0.6126, Loss: 0.5200\n",
      "Epoch  25 Batch  100/1077 - Train Accuracy: 0.6074, Validation Accuracy: 0.6168, Loss: 0.5753\n",
      "Epoch  25 Batch  200/1077 - Train Accuracy: 0.5508, Validation Accuracy: 0.6112, Loss: 0.5714\n",
      "Epoch  25 Batch  300/1077 - Train Accuracy: 0.4807, Validation Accuracy: 0.5192, Loss: 0.5765\n",
      "Epoch  25 Batch  400/1077 - Train Accuracy: 0.5730, Validation Accuracy: 0.6030, Loss: 0.5702\n",
      "Epoch  25 Batch  500/1077 - Train Accuracy: 0.5855, Validation Accuracy: 0.6001, Loss: 0.5721\n",
      "Epoch  25 Batch  600/1077 - Train Accuracy: 0.5707, Validation Accuracy: 0.6179, Loss: 0.5377\n",
      "Epoch  25 Batch  700/1077 - Train Accuracy: 0.5402, Validation Accuracy: 0.5930, Loss: 0.5620\n",
      "Epoch  25 Batch  800/1077 - Train Accuracy: 0.5375, Validation Accuracy: 0.6001, Loss: 0.5805\n",
      "Epoch  25 Batch  900/1077 - Train Accuracy: 0.5746, Validation Accuracy: 0.5966, Loss: 0.5579\n",
      "Epoch  25 Batch 1000/1077 - Train Accuracy: 0.6105, Validation Accuracy: 0.6062, Loss: 0.5199\n",
      "Epoch  26 Batch  100/1077 - Train Accuracy: 0.6047, Validation Accuracy: 0.6197, Loss: 0.5765\n",
      "Epoch  26 Batch  200/1077 - Train Accuracy: 0.5445, Validation Accuracy: 0.6030, Loss: 0.5736\n",
      "Epoch  26 Batch  300/1077 - Train Accuracy: 0.4873, Validation Accuracy: 0.5259, Loss: 0.5790\n",
      "Epoch  26 Batch  400/1077 - Train Accuracy: 0.5625, Validation Accuracy: 0.6094, Loss: 0.5694\n",
      "Epoch  26 Batch  500/1077 - Train Accuracy: 0.5766, Validation Accuracy: 0.5998, Loss: 0.5733\n",
      "Epoch  26 Batch  600/1077 - Train Accuracy: 0.5815, Validation Accuracy: 0.6154, Loss: 0.5374\n",
      "Epoch  26 Batch  700/1077 - Train Accuracy: 0.5406, Validation Accuracy: 0.6005, Loss: 0.5711\n",
      "Epoch  26 Batch  800/1077 - Train Accuracy: 0.5363, Validation Accuracy: 0.6151, Loss: 0.5677\n",
      "Epoch  26 Batch  900/1077 - Train Accuracy: 0.5602, Validation Accuracy: 0.5859, Loss: 0.5529\n",
      "Epoch  26 Batch 1000/1077 - Train Accuracy: 0.6049, Validation Accuracy: 0.6058, Loss: 0.5204\n",
      "Epoch  27 Batch  100/1077 - Train Accuracy: 0.5996, Validation Accuracy: 0.6168, Loss: 0.5748\n",
      "Epoch  27 Batch  200/1077 - Train Accuracy: 0.5559, Validation Accuracy: 0.6143, Loss: 0.5730\n",
      "Epoch  27 Batch  300/1077 - Train Accuracy: 0.4864, Validation Accuracy: 0.5188, Loss: 0.5768\n",
      "Epoch  27 Batch  400/1077 - Train Accuracy: 0.5707, Validation Accuracy: 0.6033, Loss: 0.5804\n",
      "Epoch  27 Batch  500/1077 - Train Accuracy: 0.5687, Validation Accuracy: 0.6026, Loss: 0.5679\n",
      "Epoch  27 Batch  600/1077 - Train Accuracy: 0.5789, Validation Accuracy: 0.5994, Loss: 0.5343\n",
      "Epoch  27 Batch  700/1077 - Train Accuracy: 0.5426, Validation Accuracy: 0.6037, Loss: 0.5725\n",
      "Epoch  27 Batch  800/1077 - Train Accuracy: 0.5426, Validation Accuracy: 0.6016, Loss: 0.5647\n",
      "Epoch  27 Batch  900/1077 - Train Accuracy: 0.5684, Validation Accuracy: 0.5987, Loss: 0.5610\n"
     ]
    },
    {
     "ename": "KeyboardInterrupt",
     "evalue": "",
     "output_type": "error",
     "traceback": [
      "\u001b[0;31m---------------------------------------------------------------------------\u001b[0m",
      "\u001b[0;31mKeyboardInterrupt\u001b[0m                         Traceback (most recent call last)",
      "\u001b[0;32m<ipython-input-42-8b554ffa681f>\u001b[0m in \u001b[0;36m<module>\u001b[0;34m()\u001b[0m\n\u001b[1;32m     46\u001b[0m                  \u001b[0mtarget_sequence_length\u001b[0m\u001b[1;33m:\u001b[0m \u001b[0mtargets_lengths\u001b[0m\u001b[1;33m,\u001b[0m\u001b[1;33m\u001b[0m\u001b[0m\n\u001b[1;32m     47\u001b[0m                  \u001b[0msource_sequence_length\u001b[0m\u001b[1;33m:\u001b[0m \u001b[0msources_lengths\u001b[0m\u001b[1;33m,\u001b[0m\u001b[1;33m\u001b[0m\u001b[0m\n\u001b[0;32m---> 48\u001b[0;31m                  keep_prob: keep_probability})\n\u001b[0m\u001b[1;32m     49\u001b[0m \u001b[1;33m\u001b[0m\u001b[0m\n\u001b[1;32m     50\u001b[0m \u001b[1;33m\u001b[0m\u001b[0m\n",
      "\u001b[0;32mC:\\Users\\dustin.vado\\AppData\\Local\\Continuum\\Anaconda2\\envs\\dlnd-tf-lab\\lib\\site-packages\\tensorflow\\python\\client\\session.py\u001b[0m in \u001b[0;36mrun\u001b[0;34m(self, fetches, feed_dict, options, run_metadata)\u001b[0m\n\u001b[1;32m    776\u001b[0m     \u001b[1;32mtry\u001b[0m\u001b[1;33m:\u001b[0m\u001b[1;33m\u001b[0m\u001b[0m\n\u001b[1;32m    777\u001b[0m       result = self._run(None, fetches, feed_dict, options_ptr,\n\u001b[0;32m--> 778\u001b[0;31m                          run_metadata_ptr)\n\u001b[0m\u001b[1;32m    779\u001b[0m       \u001b[1;32mif\u001b[0m \u001b[0mrun_metadata\u001b[0m\u001b[1;33m:\u001b[0m\u001b[1;33m\u001b[0m\u001b[0m\n\u001b[1;32m    780\u001b[0m         \u001b[0mproto_data\u001b[0m \u001b[1;33m=\u001b[0m \u001b[0mtf_session\u001b[0m\u001b[1;33m.\u001b[0m\u001b[0mTF_GetBuffer\u001b[0m\u001b[1;33m(\u001b[0m\u001b[0mrun_metadata_ptr\u001b[0m\u001b[1;33m)\u001b[0m\u001b[1;33m\u001b[0m\u001b[0m\n",
      "\u001b[0;32mC:\\Users\\dustin.vado\\AppData\\Local\\Continuum\\Anaconda2\\envs\\dlnd-tf-lab\\lib\\site-packages\\tensorflow\\python\\client\\session.py\u001b[0m in \u001b[0;36m_run\u001b[0;34m(self, handle, fetches, feed_dict, options, run_metadata)\u001b[0m\n\u001b[1;32m    980\u001b[0m     \u001b[1;32mif\u001b[0m \u001b[0mfinal_fetches\u001b[0m \u001b[1;32mor\u001b[0m \u001b[0mfinal_targets\u001b[0m\u001b[1;33m:\u001b[0m\u001b[1;33m\u001b[0m\u001b[0m\n\u001b[1;32m    981\u001b[0m       results = self._do_run(handle, final_targets, final_fetches,\n\u001b[0;32m--> 982\u001b[0;31m                              feed_dict_string, options, run_metadata)\n\u001b[0m\u001b[1;32m    983\u001b[0m     \u001b[1;32melse\u001b[0m\u001b[1;33m:\u001b[0m\u001b[1;33m\u001b[0m\u001b[0m\n\u001b[1;32m    984\u001b[0m       \u001b[0mresults\u001b[0m \u001b[1;33m=\u001b[0m \u001b[1;33m[\u001b[0m\u001b[1;33m]\u001b[0m\u001b[1;33m\u001b[0m\u001b[0m\n",
      "\u001b[0;32mC:\\Users\\dustin.vado\\AppData\\Local\\Continuum\\Anaconda2\\envs\\dlnd-tf-lab\\lib\\site-packages\\tensorflow\\python\\client\\session.py\u001b[0m in \u001b[0;36m_do_run\u001b[0;34m(self, handle, target_list, fetch_list, feed_dict, options, run_metadata)\u001b[0m\n\u001b[1;32m   1030\u001b[0m     \u001b[1;32mif\u001b[0m \u001b[0mhandle\u001b[0m \u001b[1;32mis\u001b[0m \u001b[1;32mNone\u001b[0m\u001b[1;33m:\u001b[0m\u001b[1;33m\u001b[0m\u001b[0m\n\u001b[1;32m   1031\u001b[0m       return self._do_call(_run_fn, self._session, feed_dict, fetch_list,\n\u001b[0;32m-> 1032\u001b[0;31m                            target_list, options, run_metadata)\n\u001b[0m\u001b[1;32m   1033\u001b[0m     \u001b[1;32melse\u001b[0m\u001b[1;33m:\u001b[0m\u001b[1;33m\u001b[0m\u001b[0m\n\u001b[1;32m   1034\u001b[0m       return self._do_call(_prun_fn, self._session, handle, feed_dict,\n",
      "\u001b[0;32mC:\\Users\\dustin.vado\\AppData\\Local\\Continuum\\Anaconda2\\envs\\dlnd-tf-lab\\lib\\site-packages\\tensorflow\\python\\client\\session.py\u001b[0m in \u001b[0;36m_do_call\u001b[0;34m(self, fn, *args)\u001b[0m\n\u001b[1;32m   1037\u001b[0m   \u001b[1;32mdef\u001b[0m \u001b[0m_do_call\u001b[0m\u001b[1;33m(\u001b[0m\u001b[0mself\u001b[0m\u001b[1;33m,\u001b[0m \u001b[0mfn\u001b[0m\u001b[1;33m,\u001b[0m \u001b[1;33m*\u001b[0m\u001b[0margs\u001b[0m\u001b[1;33m)\u001b[0m\u001b[1;33m:\u001b[0m\u001b[1;33m\u001b[0m\u001b[0m\n\u001b[1;32m   1038\u001b[0m     \u001b[1;32mtry\u001b[0m\u001b[1;33m:\u001b[0m\u001b[1;33m\u001b[0m\u001b[0m\n\u001b[0;32m-> 1039\u001b[0;31m       \u001b[1;32mreturn\u001b[0m \u001b[0mfn\u001b[0m\u001b[1;33m(\u001b[0m\u001b[1;33m*\u001b[0m\u001b[0margs\u001b[0m\u001b[1;33m)\u001b[0m\u001b[1;33m\u001b[0m\u001b[0m\n\u001b[0m\u001b[1;32m   1040\u001b[0m     \u001b[1;32mexcept\u001b[0m \u001b[0merrors\u001b[0m\u001b[1;33m.\u001b[0m\u001b[0mOpError\u001b[0m \u001b[1;32mas\u001b[0m \u001b[0me\u001b[0m\u001b[1;33m:\u001b[0m\u001b[1;33m\u001b[0m\u001b[0m\n\u001b[1;32m   1041\u001b[0m       \u001b[0mmessage\u001b[0m \u001b[1;33m=\u001b[0m \u001b[0mcompat\u001b[0m\u001b[1;33m.\u001b[0m\u001b[0mas_text\u001b[0m\u001b[1;33m(\u001b[0m\u001b[0me\u001b[0m\u001b[1;33m.\u001b[0m\u001b[0mmessage\u001b[0m\u001b[1;33m)\u001b[0m\u001b[1;33m\u001b[0m\u001b[0m\n",
      "\u001b[0;32mC:\\Users\\dustin.vado\\AppData\\Local\\Continuum\\Anaconda2\\envs\\dlnd-tf-lab\\lib\\site-packages\\tensorflow\\python\\client\\session.py\u001b[0m in \u001b[0;36m_run_fn\u001b[0;34m(session, feed_dict, fetch_list, target_list, options, run_metadata)\u001b[0m\n\u001b[1;32m   1019\u001b[0m         return tf_session.TF_Run(session, options,\n\u001b[1;32m   1020\u001b[0m                                  \u001b[0mfeed_dict\u001b[0m\u001b[1;33m,\u001b[0m \u001b[0mfetch_list\u001b[0m\u001b[1;33m,\u001b[0m \u001b[0mtarget_list\u001b[0m\u001b[1;33m,\u001b[0m\u001b[1;33m\u001b[0m\u001b[0m\n\u001b[0;32m-> 1021\u001b[0;31m                                  status, run_metadata)\n\u001b[0m\u001b[1;32m   1022\u001b[0m \u001b[1;33m\u001b[0m\u001b[0m\n\u001b[1;32m   1023\u001b[0m     \u001b[1;32mdef\u001b[0m \u001b[0m_prun_fn\u001b[0m\u001b[1;33m(\u001b[0m\u001b[0msession\u001b[0m\u001b[1;33m,\u001b[0m \u001b[0mhandle\u001b[0m\u001b[1;33m,\u001b[0m \u001b[0mfeed_dict\u001b[0m\u001b[1;33m,\u001b[0m \u001b[0mfetch_list\u001b[0m\u001b[1;33m)\u001b[0m\u001b[1;33m:\u001b[0m\u001b[1;33m\u001b[0m\u001b[0m\n",
      "\u001b[0;31mKeyboardInterrupt\u001b[0m: "
     ]
    }
   ],
   "source": [
    "\"\"\"\n",
    "DON'T MODIFY ANYTHING IN THIS CELL\n",
    "\"\"\"\n",
    "def get_accuracy(target, logits):\n",
    "    \"\"\"\n",
    "    Calculate accuracy\n",
    "    \"\"\"\n",
    "    max_seq = max(target.shape[1], logits.shape[1])\n",
    "    if max_seq - target.shape[1]:\n",
    "        target = np.pad(\n",
    "            target,\n",
    "            [(0,0),(0,max_seq - target.shape[1])],\n",
    "            'constant')\n",
    "    if max_seq - logits.shape[1]:\n",
    "        logits = np.pad(\n",
    "            logits,\n",
    "            [(0,0),(0,max_seq - logits.shape[1])],\n",
    "            'constant')\n",
    "\n",
    "    return np.mean(np.equal(target, logits))\n",
    "\n",
    "# Split data to training and validation sets\n",
    "train_source = source_int_text[batch_size:]\n",
    "train_target = target_int_text[batch_size:]\n",
    "valid_source = source_int_text[:batch_size]\n",
    "valid_target = target_int_text[:batch_size]\n",
    "(valid_sources_batch, valid_targets_batch, valid_sources_lengths, valid_targets_lengths ) = next(get_batches(valid_source,\n",
    "                                                                                                             valid_target,\n",
    "                                                                                                             batch_size,\n",
    "                                                                                                             source_vocab_to_int['<PAD>'],\n",
    "                                                                                                             target_vocab_to_int['<PAD>']))                                                                                                  \n",
    "with tf.Session(graph=train_graph) as sess:\n",
    "    sess.run(tf.global_variables_initializer())\n",
    "\n",
    "    for epoch_i in range(epochs):\n",
    "        for batch_i, (source_batch, target_batch, sources_lengths, targets_lengths) in enumerate(\n",
    "                get_batches(train_source, train_target, batch_size,\n",
    "                            source_vocab_to_int['<PAD>'],\n",
    "                            target_vocab_to_int['<PAD>'])):\n",
    "\n",
    "            _, loss = sess.run(\n",
    "                [train_op, cost],\n",
    "                {input_data: source_batch,\n",
    "                 targets: target_batch,\n",
    "                 lr: learning_rate,\n",
    "                 target_sequence_length: targets_lengths,\n",
    "                 source_sequence_length: sources_lengths,\n",
    "                 keep_prob: keep_probability})\n",
    "\n",
    "\n",
    "            if batch_i % display_step == 0 and batch_i > 0:\n",
    "\n",
    "\n",
    "                batch_train_logits = sess.run(\n",
    "                    inference_logits,\n",
    "                    {input_data: source_batch,\n",
    "                     source_sequence_length: sources_lengths,\n",
    "                     target_sequence_length: targets_lengths,\n",
    "                     keep_prob: 1.0})\n",
    "\n",
    "\n",
    "                batch_valid_logits = sess.run(\n",
    "                    inference_logits,\n",
    "                    {input_data: valid_sources_batch,\n",
    "                     source_sequence_length: valid_sources_lengths,\n",
    "                     target_sequence_length: valid_targets_lengths,\n",
    "                     keep_prob: 1.0})\n",
    "\n",
    "                train_acc = get_accuracy(target_batch, batch_train_logits)\n",
    "\n",
    "                valid_acc = get_accuracy(valid_targets_batch, batch_valid_logits)\n",
    "\n",
    "                print('Epoch {:>3} Batch {:>4}/{} - Train Accuracy: {:>6.4f}, Validation Accuracy: {:>6.4f}, Loss: {:>6.4f}'\n",
    "                      .format(epoch_i, batch_i, len(source_int_text) // batch_size, train_acc, valid_acc, loss))\n",
    "\n",
    "    # Save Model\n",
    "    saver = tf.train.Saver()\n",
    "    saver.save(sess, save_path)\n",
    "    print('Model Trained and Saved')"
   ]
  },
  {
   "cell_type": "markdown",
   "metadata": {},
   "source": [
    "### Save Parameters\n",
    "Save the `batch_size` and `save_path` parameters for inference."
   ]
  },
  {
   "cell_type": "code",
   "execution_count": null,
   "metadata": {
    "collapsed": true
   },
   "outputs": [],
   "source": [
    "\"\"\"\n",
    "DON'T MODIFY ANYTHING IN THIS CELL\n",
    "\"\"\"\n",
    "# Save parameters for checkpoint\n",
    "helper.save_params(save_path)"
   ]
  },
  {
   "cell_type": "markdown",
   "metadata": {},
   "source": [
    "# Checkpoint"
   ]
  },
  {
   "cell_type": "code",
   "execution_count": null,
   "metadata": {
    "collapsed": true
   },
   "outputs": [],
   "source": [
    "\"\"\"\n",
    "DON'T MODIFY ANYTHING IN THIS CELL\n",
    "\"\"\"\n",
    "import tensorflow as tf\n",
    "import numpy as np\n",
    "import helper\n",
    "import problem_unittests as tests\n",
    "\n",
    "_, (source_vocab_to_int, target_vocab_to_int), (source_int_to_vocab, target_int_to_vocab) = helper.load_preprocess()\n",
    "load_path = helper.load_params()"
   ]
  },
  {
   "cell_type": "markdown",
   "metadata": {},
   "source": [
    "## Sentence to Sequence\n",
    "To feed a sentence into the model for translation, you first need to preprocess it.  Implement the function `sentence_to_seq()` to preprocess new sentences.\n",
    "\n",
    "- Convert the sentence to lowercase\n",
    "- Convert words into ids using `vocab_to_int`\n",
    " - Convert words not in the vocabulary, to the `<UNK>` word id."
   ]
  },
  {
   "cell_type": "code",
   "execution_count": null,
   "metadata": {
    "collapsed": true
   },
   "outputs": [],
   "source": [
    "def sentence_to_seq(sentence, vocab_to_int):\n",
    "    \"\"\"\n",
    "    Convert a sentence to a sequence of ids\n",
    "    :param sentence: String\n",
    "    :param vocab_to_int: Dictionary to go from the words to an id\n",
    "    :return: List of word ids\n",
    "    \"\"\"\n",
    "    # TODO: Implement Function\n",
    "    return [vocab_to_int[word] for word in sentence.split(' ')]\n",
    "\n",
    "\n",
    "\"\"\"\n",
    "DON'T MODIFY ANYTHING IN THIS CELL THAT IS BELOW THIS LINE\n",
    "\"\"\"\n",
    "tests.test_sentence_to_seq(sentence_to_seq)"
   ]
  },
  {
   "cell_type": "markdown",
   "metadata": {},
   "source": [
    "## Translate\n",
    "This will translate `translate_sentence` from English to French."
   ]
  },
  {
   "cell_type": "code",
   "execution_count": null,
   "metadata": {
    "collapsed": true
   },
   "outputs": [],
   "source": [
    "translate_sentence = 'he saw a old yellow truck .'\n",
    "\n",
    "\n",
    "\"\"\"\n",
    "DON'T MODIFY ANYTHING IN THIS CELL\n",
    "\"\"\"\n",
    "translate_sentence = sentence_to_seq(translate_sentence, source_vocab_to_int)\n",
    "\n",
    "loaded_graph = tf.Graph()\n",
    "with tf.Session(graph=loaded_graph) as sess:\n",
    "    # Load saved model\n",
    "    loader = tf.train.import_meta_graph(load_path + '.meta')\n",
    "    loader.restore(sess, load_path)\n",
    "\n",
    "    input_data = loaded_graph.get_tensor_by_name('input:0')\n",
    "    logits = loaded_graph.get_tensor_by_name('predictions:0')\n",
    "    target_sequence_length = loaded_graph.get_tensor_by_name('target_sequence_length:0')\n",
    "    source_sequence_length = loaded_graph.get_tensor_by_name('source_sequence_length:0')\n",
    "    keep_prob = loaded_graph.get_tensor_by_name('keep_prob:0')\n",
    "\n",
    "    translate_logits = sess.run(logits, {input_data: [translate_sentence]*batch_size,\n",
    "                                         target_sequence_length: [len(translate_sentence)*2]*batch_size,\n",
    "                                         source_sequence_length: [len(translate_sentence)]*batch_size,\n",
    "                                         keep_prob: 1.0})[0]\n",
    "\n",
    "print('Input')\n",
    "print('  Word Ids:      {}'.format([i for i in translate_sentence]))\n",
    "print('  English Words: {}'.format([source_int_to_vocab[i] for i in translate_sentence]))\n",
    "\n",
    "print('\\nPrediction')\n",
    "print('  Word Ids:      {}'.format([i for i in translate_logits]))\n",
    "print('  French Words: {}'.format(\" \".join([target_int_to_vocab[i] for i in translate_logits])))\n"
   ]
  },
  {
   "cell_type": "markdown",
   "metadata": {},
   "source": [
    "## Imperfect Translation\n",
    "You might notice that some sentences translate better than others.  Since the dataset you're using only has a vocabulary of 227 English words of the thousands that you use, you're only going to see good results using these words.  For this project, you don't need a perfect translation. However, if you want to create a better translation model, you'll need better data.\n",
    "\n",
    "You can train on the [WMT10 French-English corpus](http://www.statmt.org/wmt10/training-giga-fren.tar).  This dataset has more vocabulary and richer in topics discussed.  However, this will take you days to train, so make sure you've a GPU and the neural network is performing well on dataset we provided.  Just make sure you play with the WMT10 corpus after you've submitted this project.\n",
    "## Submitting This Project\n",
    "When submitting this project, make sure to run all the cells before saving the notebook. Save the notebook file as \"dlnd_language_translation.ipynb\" and save it as a HTML file under \"File\" -> \"Download as\". Include the \"helper.py\" and \"problem_unittests.py\" files in your submission."
   ]
  }
 ],
 "metadata": {
  "anaconda-cloud": {},
  "kernelspec": {
   "display_name": "Python 3",
   "language": "python",
   "name": "python3"
  },
  "language_info": {
   "codemirror_mode": {
    "name": "ipython",
    "version": 3
   },
   "file_extension": ".py",
   "mimetype": "text/x-python",
   "name": "python",
   "nbconvert_exporter": "python",
   "pygments_lexer": "ipython3",
   "version": "3.5.2"
  }
 },
 "nbformat": 4,
 "nbformat_minor": 1
}
